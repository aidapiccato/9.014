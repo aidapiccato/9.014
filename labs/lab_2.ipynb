{
 "cells": [
  {
   "cell_type": "code",
   "execution_count": 175,
   "id": "9c7d5f92",
   "metadata": {},
   "outputs": [],
   "source": [
    "import numpy as np\n",
    "import matplotlib.pyplot as plt\n",
    "import scipy.stats\n",
    "PLACEHOLDER = 0\n",
    "NONZERO_PLACEHOLDER = 1\n",
    "LIST_PLACEHOLDER = np.ndarray([0, 0])\n",
    "NONE_PLACEHOLDER = None"
   ]
  },
  {
   "cell_type": "markdown",
   "id": "d726aecf",
   "metadata": {},
   "source": [
    "# Problem 1: Gaussian Distribution\n",
    "\n",
    "In this part, we will learn how to generate a Gaussian distribution and plot their histograms using functions in Python.\n",
    "\n",
    "Gaussian distribution are also called normal distributions and have the well-known 'bell-shaped' curve for their probabililty density function (PDF). A Gaussian distribution is defined by its mean and its variance. According to the Central Limit Theorem (CLT), if a distribution with finite mean and finite variance is independently sampled many many times, it will approach a Gaussian distribution. For this reason, Gaussian distributions form the basis of any statistical analysis and are a good approximation to many other distributions. This result was first shown for the Binomial distribution (flipping a coin many times) by de Moivre in 1732. In the 19th century, Gauss showed that errors due to measurements are randomly distributed according to a normal distribution.\n",
    "\n",
    "If $X$ is normally distributed with mean $\\mu$ and variance $\\sigma^2$, then the $Z$ distribution:\n",
    "$$\n",
    "Z = \\frac{X - \\mu}{\\sigma}\n",
    "$$\n",
    "is normally distributed with mean 0 and variance 1. Such distributions are called standard normal distributions and are denoted by $N(0, 1)$.\n",
    "\n",
    "The PDF of a 1-dimensional Gaussian distribution with mean $\\mu$ and variance $\\sigma^2$ is:\n",
    "\n",
    "$$\n",
    "f(x) = \\frac{1}{\\sqrt{2\\pi \\sigma^2}}e^{\\frac{-(x-\\mu)^2}{2\\sigma^2}}\n",
    "$$\n",
    "\n",
    "The PDF has the following property:\n",
    "\n",
    "$$\n",
    "\\int_{-\\infty}^{\\infty} f(x)dx =1\n",
    "$$\n",
    "\n",
    "The cumulative distribution function (CDF) $F(x)$ of a random variable $X$ is defined by:\n",
    "\n",
    "$$\n",
    "F(X) = p(X \\leq x) = \\int_{-\\infty}^{x}f(x)dx\n",
    "$$\n",
    "\n",
    "Hence, the PDF is calculated by first finding the CDF and taking its derivative:\n",
    "\n",
    "$$\n",
    "f(x) = F'(x)\n",
    "$$"
   ]
  },
  {
   "cell_type": "markdown",
   "id": "c2bc25cf",
   "metadata": {},
   "source": [
    "## 1.1 Sampling from the standard Gaussian distribution\n",
    "Use the function `np.random.normal` to generate 5000 samples from a 1D standard normal distribution and store them in a vector $X$. "
   ]
  },
  {
   "cell_type": "code",
   "execution_count": 2,
   "id": "67d85890",
   "metadata": {},
   "outputs": [],
   "source": [
    "n_samples = 5000\n",
    "# TODO: Set loc, scale, and size parameters (scale is standard deviaiton)\n",
    "X = np.random.normal(loc=PLACEHOLDER, scale=PLACEHOLDER, size=NONZERO_PLACEHOLDER)"
   ]
  },
  {
   "cell_type": "markdown",
   "id": "380e81f5",
   "metadata": {},
   "source": [
    "## 1.2 Histogram of sampled data\n",
    "Plot a histogram of the samples using 20 bins using `plt.hist` (documentation [here](https://matplotlib.org/stable/api/_as_gen/matplotlib.pyplot.hist.html)). "
   ]
  },
  {
   "cell_type": "code",
   "execution_count": 3,
   "id": "3fd3caa2",
   "metadata": {},
   "outputs": [
    {
     "data": {
      "image/png": "[encoded data removed]",
      "text/plain": [
       "<Figure size 432x288 with 1 Axes>"
      ]
     },
     "metadata": {
      "needs_background": "light"
     },
     "output_type": "display_data"
    }
   ],
   "source": [
    "fig = plt.figure()\n",
    "n_bins = 20\n",
    "# TODO: Plot a histogram of samples using 20 bins\n",
    "plt.hist(x=PLACEHOLDER, bins=NONZERO_PLACEHOLDER)\n",
    "plt.xlabel(PLACEHOLDER)\n",
    "plt.ylabel(PLACEHOLDER)\n",
    "plt.title(PLACEHOLDER)\n",
    "plt.show()"
   ]
  },
  {
   "cell_type": "markdown",
   "id": "3af81ad9",
   "metadata": {},
   "source": [
    "Plot another histogram of the samples, this time with bins of width 0.2 instead of 20 bins. To do this, you'll have to generate an array of bin edges, where the left-most edge is the minimum sample value, and the right-most edge is the maximum sample value."
   ]
  },
  {
   "cell_type": "code",
   "execution_count": 4,
   "id": "fa61408c",
   "metadata": {},
   "outputs": [
    {
     "data": {
      "image/png": "[encoded data removed]",
      "text/plain": [
       "<Figure size 432x288 with 1 Axes>"
      ]
     },
     "metadata": {
      "needs_background": "light"
     },
     "output_type": "display_data"
    }
   ],
   "source": [
    "bin_width = 0.2\n",
    "min_value = np.amin(X)\n",
    "max_value = np.amin(X)\n",
    "# TODO: Generate an array of bin edges using np.arange\n",
    "bins = np.arange(start=PLACEHOLDER, stop=PLACEHOLDER, step=NONZERO_PLACEHOLDER)\n",
    "\n",
    "# TODO: Plot a histogram of samples using the generated bin edges\n",
    "fig = plt.figure()\n",
    "plt.hist(x=PLACEHOLDER, bins=NONZERO_PLACEHOLDER)\n",
    "plt.xlabel(PLACEHOLDER)\n",
    "plt.ylabel(PLACEHOLDER)\n",
    "plt.title(PLACEHOLDER)\n",
    "plt.show()"
   ]
  },
  {
   "cell_type": "markdown",
   "id": "e853c338",
   "metadata": {},
   "source": [
    "## 1.3 Bin counts\n",
    "Find the number of counts in every bin (for the histogram of bin width=0.2) created above and store them in a vector `count`. Use the method `np.histogram` (documentation [here](https://numpy.org/doc/stable/reference/generated/numpy.histogram.html)) with the bins generated in the previous problem. \n"
   ]
  },
  {
   "cell_type": "code",
   "execution_count": 5,
   "id": "2d990ebf",
   "metadata": {},
   "outputs": [],
   "source": [
    "# TODO: Create an array of bin counts\n",
    "# NOTE: np.histogram returns two arrays - the first (count) is the number of counts in \n",
    "# each bin, the second (bin_edges) are the bin edges used to generate the histogram\n",
    "count, bin_edges = np.histogram(a=PLACEHOLDER, bins=NONZERO_PLACEHOLDER)"
   ]
  },
  {
   "cell_type": "markdown",
   "id": "a703a778",
   "metadata": {},
   "source": [
    "## 1.4 Calculate the probability of every bin and store them in a vector $p$. Replot the normalized histogram\n",
    "Use `plt.bar` (documentation [here](https://matplotlib.org/stable/api/_as_gen/matplotlib.pyplot.bar.html)) to plot the normalized histogram you made in the previous problem. "
   ]
  },
  {
   "cell_type": "code",
   "execution_count": 6,
   "id": "7d04a481",
   "metadata": {},
   "outputs": [
    {
     "data": {
      "image/png": "[encoded data removed]",
      "text/plain": [
       "<Figure size 432x288 with 1 Axes>"
      ]
     },
     "metadata": {
      "needs_background": "light"
     },
     "output_type": "display_data"
    }
   ],
   "source": [
    "# TODO: Create an array of bin counts, then normalize to calculate the probability of each\n",
    "# bin. \n",
    "count, bin_edges = np.histogram(a=PLACEHOLDER, bins=NONZERO_PLACEHOLDER)\n",
    "count = count / NONZERO_PLACEHOLDER\n",
    "\n",
    "fig = plt.figure()\n",
    "# TODO: Plot the histogra using plt.bar\n",
    "plt.bar(x=PLACEHOLDER, height=PLACEHOLDER)\n",
    "plt.xlabel(PLACEHOLDER)\n",
    "plt.ylabel(PLACEHOLDER)\n",
    "plt.title(PLACEHOLDER)\n",
    "plt.show()"
   ]
  },
  {
   "cell_type": "markdown",
   "id": "37e54976",
   "metadata": {},
   "source": [
    "## 1.5 Compare probabilities from data and from distribution \n",
    "### 1.5.a Calcuate the probability of sampling $1 \\leq X < 1.5$ from the normal distribution\n",
    "First, we plot the PDF of the standard normal distribution explicitly. "
   ]
  },
  {
   "cell_type": "code",
   "execution_count": 7,
   "id": "d83f3372",
   "metadata": {},
   "outputs": [
    {
     "name": "stdout",
     "output_type": "stream",
     "text": [
      "0.09323043620985114\n"
     ]
    },
    {
     "data": {
      "image/png": "[encoded data removed]",
      "text/plain": [
       "<Figure size 432x288 with 1 Axes>"
      ]
     },
     "metadata": {
      "needs_background": "light"
     },
     "output_type": "display_data"
    }
   ],
   "source": [
    "x = np.linspace(-4, 4, 1000)\n",
    "mu = 0\n",
    "sigma = 1\n",
    "f = np.exp((-(x - mu)**2)/(2*sigma**2))/(sigma*np.sqrt(2*np.pi))\n",
    "fig = plt.figure()\n",
    "plt.plot(x, f)\n",
    "\n",
    "\n",
    "upper = int(np.where(x > 1.5)[0][0])\n",
    "lower = int(np.where(x <= 1)[0][-1])\n",
    "\n",
    "plt.axvline(x[upper])\n",
    "plt.axvline(x[lower])\n",
    "\n",
    "print((np.sum(f[:upper]) - np.sum(f[:lower]))/np.sum(f))\n",
    "\n",
    "plt.show()"
   ]
  },
  {
   "cell_type": "markdown",
   "id": "22dbfc6d",
   "metadata": {},
   "source": [
    "Or, we can use the `scipy.stats` library to do this! The function `scipy.stats.norm` will generate a normal distribution, and the method `cdf` will calculate the CDF for this distribution (documentation [here](https://docs.scipy.org/doc/scipy/reference/generated/scipy.stats.norm.html))"
   ]
  },
  {
   "cell_type": "code",
   "execution_count": 13,
   "id": "62d791a7",
   "metadata": {},
   "outputs": [
    {
     "name": "stdout",
     "output_type": "stream",
     "text": [
      "0.09184805266259899\n"
     ]
    }
   ],
   "source": [
    "# TODO: Find the probability of x falling in the range [1, 1.5). \n",
    "upper_prob = scipy.stats.norm(loc=PLACEHOLDER, scale=NONZERO_PLACEHOLDER).cdf(1.5) \n",
    "lower_prob = scipy.stats.norm(loc=PLACEHOLDER, scale=NONZERO_PLACEHOLDER).cdf(1.)\n",
    "true_prob = upper_prob - lower_prob\n",
    "print(true_prob)"
   ]
  },
  {
   "cell_type": "markdown",
   "id": "e5d1e742",
   "metadata": {},
   "source": [
    "### 1.5.b Estimate this probability from  the data sampled above\n",
    "Use `np.count_nonzero` to do this (see documentation [here](https://numpy.org/doc/stable/reference/generated/numpy.count_nonzero.html)). \n",
    "\n",
    "*Hint*: `X > 1.0` will return an array of the same dimensions as `X` that is zero wherever array `X` is has a value greater than 1, 1 otherwise. "
   ]
  },
  {
   "cell_type": "code",
   "execution_count": 14,
   "id": "63027c51",
   "metadata": {},
   "outputs": [
    {
     "name": "stdout",
     "output_type": "stream",
     "text": [
      "0.0\n"
     ]
    }
   ],
   "source": [
    "# TODO: Find the probability of a sample falling in the range [1., 1.5)\n",
    "samples_prob = np.count_nonzero(PLACEHOLDER)/NONZERO_PLACEHOLDER\n",
    "print(samples_prob)"
   ]
  },
  {
   "cell_type": "markdown",
   "id": "a0e67987",
   "metadata": {},
   "source": [
    "## 1.6 Normal distributions with large mean and small variance: Markov Inequality\n",
    "Let $X$ be a random variable that is normally distributed with mean $\\mu$ and variance $\\sigma^2$. We need to establish a relation between its mean, variance, and probability. \n",
    "\n",
    "\n",
    "### 1.6.a Find $g(k) = p(X > k)$ for $\\mu = 2, 3, 4,5, 6$ and $\\sigma = 0.5, 1, 1.5, 2, 2.5$. Use $N = 1000$ for each sampling experiment. In all, you'll have 25 distributions\n",
    "\n",
    "We want to do this in a vectorized way - without using a for loop. To do that, we'll use the `np.meshgrid` method (documentation [here](https://numpy.org/doc/stable/reference/generated/numpy.meshgrid.html)). This will create a rectangular grid out of two one-dimensional arrays. Let's do this for the $\\mu$ and $\\sigma$ values we want to loop over:"
   ]
  },
  {
   "cell_type": "code",
   "execution_count": 89,
   "id": "5d346bf9",
   "metadata": {},
   "outputs": [
    {
     "name": "stdout",
     "output_type": "stream",
     "text": [
      "[[2 3 4 5 6]\n",
      " [2 3 4 5 6]\n",
      " [2 3 4 5 6]\n",
      " [2 3 4 5 6]\n",
      " [2 3 4 5 6]]\n",
      "[[0.5 0.5 0.5 0.5 0.5]\n",
      " [1.  1.  1.  1.  1. ]\n",
      " [1.5 1.5 1.5 1.5 1.5]\n",
      " [2.  2.  2.  2.  2. ]\n",
      " [2.5 2.5 2.5 2.5 2.5]]\n"
     ]
    }
   ],
   "source": [
    "n_samples = 1000\n",
    "mu = np.array([2, 3, 4, 5, 6])\n",
    "sigma = np.array([0.5, 1.0, 1.5, 2, 2.5])\n",
    "\n",
    "\n",
    "mus, sigmas = np.meshgrid(mu, sigma)\n",
    "print(mus)\n",
    "print(sigmas)\n",
    "\n",
    "# NOTE: I'm flattening the arrays to make it easier to work with, but this isn't strictly necessary.\n",
    "mus = np.ndarray.flatten(mus)\n",
    "sigmas = np.ndarray.flatten(sigmas)"
   ]
  },
  {
   "cell_type": "markdown",
   "id": "5ae9e5c5",
   "metadata": {},
   "source": [
    "This gives us every possible combination of $\\mu$ and $\\sigma$ values. We can then create a function that will draw $N$ samples for a given $\\mu$ and $\\sigma$ argument, and apply this function to every square in the `mus` and `sigmas` arrays. To apply this to each element of the arrays, we'll use the map function in Python (more info [here](https://www.geeksforgeeks.org/python-map-function/)). "
   ]
  },
  {
   "cell_type": "code",
   "execution_count": 91,
   "id": "06725f16",
   "metadata": {},
   "outputs": [
    {
     "name": "stdout",
     "output_type": "stream",
     "text": [
      "(25, 1000)\n"
     ]
    }
   ],
   "source": [
    "def norm_sample(mu, sigma): \n",
    "    return np.random.normal(loc=mu,scale=sigma, size=(n_samples, ))\n",
    "\n",
    "distributions = np.array(list(map(norm_sample, mus, sigmas)))\n",
    "print(distributions.shape)"
   ]
  },
  {
   "cell_type": "markdown",
   "id": "ee54e192",
   "metadata": {},
   "source": [
    "### 1.6.b Next, plot the function $g(k)/\\mu/N$ versus $k$, for $k=1....10$. Can you find another function that is an upper bound for this function?"
   ]
  },
  {
   "cell_type": "code",
   "execution_count": 114,
   "id": "409f1540",
   "metadata": {},
   "outputs": [
    {
     "data": {
      "image/png": "[encoded data removed]",
      "text/plain": [
       "<Figure size 432x288 with 1 Axes>"
      ]
     },
     "metadata": {
      "needs_background": "light"
     },
     "output_type": "display_data"
    }
   ],
   "source": [
    "ks = np.linspace(1, 10, 20) \n",
    "fig = plt.figure()\n",
    "\n",
    "# TODO: Define a lambda function g that will find g(k)/mu for each k. Then use the map function to apply this to each\n",
    "# element in ks\n",
    "for distribution, mu in zip(distributions, mus):    \n",
    "    g_func = lambda PLACEHOLDER: PLACEHOLDER\n",
    "    g = np.array(list(map(PLACEHOLDER, LIST_PLACEHOLDER)))\n",
    "    plt.plot(PLACEHOLDER)\n",
    "    \n",
    "    # ANSWER\n",
    "    g_func = lambda k: sum(distribution > k)/mu/n_samples\n",
    "    g = np.array(list(map(g_func, ks)))\n",
    "\n",
    "# TODO: Plot a function that is an upper bound for this function\n",
    "# HINT: Try different exponential functions over k e.g. np.exp(0.5*ks)\n",
    "plt.plot(PLACEHOLDER)\n",
    "\n",
    "plt.show()"
   ]
  },
  {
   "cell_type": "markdown",
   "id": "4809d6fa",
   "metadata": {},
   "source": [
    "### 1.6.c Repeat the same calculation for binomial distribution\n",
    "\n",
    "Use the function `np.random.binomial` (documentation [here](https://numpy.org/doc/stable/reference/random/generated/numpy.random.binomial.html)). The probability density function of the binomial distribution is\n",
    "\n",
    "$$\n",
    "f(x| N, p) = {N \\choose p}p^x(1 - p)^{N - x}\n",
    "$$\n",
    "\n",
    "where $x = 0, 1, 2, 3...N$. \n",
    "\n",
    "$x$ is the number of successes in $N$ trials. $p$ is the probability of success. \n",
    "\n",
    "You can think of $f(x|N, p)$ as the probability of getting $x$ heads when you flip a coin $N$ times, where the probability of heads with this coin is $p$. "
   ]
  },
  {
   "cell_type": "code",
   "execution_count": 115,
   "id": "d47175c4",
   "metadata": {},
   "outputs": [
    {
     "data": {
      "image/png": "[encoded data removed]",
      "text/plain": [
       "<Figure size 432x288 with 1 Axes>"
      ]
     },
     "metadata": {
      "needs_background": "light"
     },
     "output_type": "display_data"
    }
   ],
   "source": [
    "p = 0.2\n",
    "ns = np.arange(6, 10)\n",
    "\n",
    "fig = plt.figure()\n",
    "\n",
    "\n",
    "for n in ns:    \n",
    "    # TODO: Sample n_samples from binomial distribution with n, p. \n",
    "    distribution = np.random.binomial(n=PLACEHOLDER, p=PLACEHOLDER, size=(PLACEHOLDER, ))\n",
    "    # TODO: Define a lambda function g that will find g(k) for each k.\n",
    "    # Then use the map function to apply this to each element in ks\n",
    "    g_func = lambda PLACEHOLDER: PLACEHOLDER\n",
    "    g = np.array(list(map(PLACEHOLDER, LIST_PLACEHOLDER)))\n",
    "    plt.plot(PLACEHOLDER)\n",
    "     \n",
    "\n",
    "# TODO: Plot a function that is an upper bound for this function\n",
    "# HINT: Try different exponential functions over k e.g. np.exp(0.5*ks)\n",
    "plt.plot(PLACEHOLDER)\n",
    "\n",
    "plt.show()"
   ]
  },
  {
   "cell_type": "markdown",
   "id": "6ceb42f5",
   "metadata": {},
   "source": [
    "**CONCLUSION** This result applies to more general distributions. For **any** distribution $X$ that is nonnegative, the probability that $X$ is larger than $2\\mu$ is at most 1/2. This probability is called the **Markov inequality**. The result is independent of variance. "
   ]
  },
  {
   "cell_type": "markdown",
   "id": "880dc60f",
   "metadata": {},
   "source": [
    "## 1.7 Law of large numbers\n",
    "Consider a standard normal distribution. Find the mean of finitely many samples and plot the mean against the number of samples. Take $N = 1:10:10000$"
   ]
  },
  {
   "cell_type": "code",
   "execution_count": 117,
   "id": "3f0f1723",
   "metadata": {},
   "outputs": [
    {
     "data": {
      "image/png": "[encoded data removed]",
      "text/plain": [
       "<Figure size 432x288 with 1 Axes>"
      ]
     },
     "metadata": {
      "needs_background": "light"
     },
     "output_type": "display_data"
    }
   ],
   "source": [
    "N = np.arange(start=1, stop=100001, step=10)\n",
    "mean = np.zeros((len(N)))\n",
    "\n",
    "for i in range(len(N)):\n",
    "    n = N[i]\n",
    "    # TODO: Sample n samples from standard normal using\n",
    "    X = PLACEHOLDER\n",
    "    # TODO: Find the mean \n",
    "    mean[i] = np.mean(PLACEHOLDER)\n",
    "    \n",
    "fig = plt.figure()\n",
    "plt.plot(N, mean)\n",
    "plt.show()"
   ]
  },
  {
   "cell_type": "markdown",
   "id": "4337b663",
   "metadata": {},
   "source": [
    "**CONCLUSION** As the sample size grows, its mean approaches that of the distribution"
   ]
  },
  {
   "cell_type": "markdown",
   "id": "2c55b8f3",
   "metadata": {},
   "source": [
    "## 1.8 Limit of a binomial distribution\n",
    "\n",
    "Use the function `np.random.binomial` (documentation [here](https://numpy.org/doc/stable/reference/random/generated/numpy.random.binomial.html)). The probability density function of the binomial distribution is\n",
    "\n",
    "$$\n",
    "f(x| N, p) = {N \\choose p}p^x(1 - p)^{N - x}\n",
    "$$\n",
    "\n",
    "where $x = 0, 1, 2, 3...N$. \n",
    "\n",
    "$x$ is the number of successes in $N$ trials. $p$ is the probability of success. \n",
    "\n",
    "You can think of $f(x|N, p)$ as the probability of getting $x$ heads when you flip a coin $N$ times, where the probability of heads with this coin is $p$. \n",
    "\n",
    "The mean for this distribution is $Np$. The variance is $Np(1 - p)$. \n",
    "\n",
    "We would like to compare this discrete distribution to the normal distribution (with the same mean and variance) for various $N$ by plotting the corresponding histograms.\n",
    "\n",
    "Choose $p = 0.75$, and plot for $N = 2$ and $N = 30$. Use `scipy.stats.binom.pmf` (documentation [here](https://docs.scipy.org/doc/scipy/reference/generated/scipy.stats.binom.html))"
   ]
  },
  {
   "cell_type": "code",
   "execution_count": 141,
   "id": "bf8c21c9",
   "metadata": {},
   "outputs": [
    {
     "data": {
      "image/png": "[encoded data removed]",
      "text/plain": [
       "<Figure size 432x288 with 1 Axes>"
      ]
     },
     "metadata": {
      "needs_background": "light"
     },
     "output_type": "display_data"
    }
   ],
   "source": [
    "p = 0.75\n",
    "\n",
    "N = 2\n",
    "x = np.arange(N+1)\n",
    "# TODO: Generate probability mass function (PMF, equivalent of PDF for a discrete distribution) for \n",
    "# binomial\n",
    "y = scipy.stats.binom(n=PLACEHOLDER, p=PLACEHOLDER).pmf(PLACEHOLDER)\n",
    "\n",
    "# NOTE: Do the same for a normal distribution with the same mean and variance\n",
    "y_normal = scipy.stats.norm(loc=N*p, scale=np.sqrt(N*p*(1-p))).pdf(x)\n",
    "\n",
    "# TODO: Plot y and y_normal\n",
    "\n",
    "fig = plt.figure()\n",
    "plt.plot(PLACEHOLDER, PLACEHOLDER)\n",
    "plt.plot(PLACEHOLDER, PLACEHOLDER)\n",
    "plt.show()\n",
    "\n",
    "# TODO: Repeat the above calculations for N = 30"
   ]
  },
  {
   "cell_type": "markdown",
   "id": "d66e7776",
   "metadata": {},
   "source": [
    "## 1.9 Is the sum of two Gaussians a Gaussian?\n",
    "Generate two data sets $X_1$ and $X_2$ from 2 normal distributions $N(0.5, 1)$ and $N(1, 2)$, respectively, each of size n_samples = 5000. Generate $X_{12}$, a normal distribution $N(0.5 + 1, 1 + 2)$. Plot this against $X_1 + X_2$ ."
   ]
  },
  {
   "cell_type": "code",
   "execution_count": 143,
   "id": "cba400d8",
   "metadata": {},
   "outputs": [
    {
     "data": {
      "image/png": "[encoded data removed]",
      "text/plain": [
       "<Figure size 432x288 with 1 Axes>"
      ]
     },
     "metadata": {
      "needs_background": "light"
     },
     "output_type": "display_data"
    }
   ],
   "source": [
    "n_samples = 5000\n",
    "mu_1 = 0.5\n",
    "mu_2 = 1\n",
    "\n",
    "sigma_1 = 1\n",
    "sigma_2 = 2\n",
    "\n",
    "# TODO: Generate the two datasets\n",
    "x_1 = np.random.normal(loc=PLACEHOLDER, scale=PLACEHOLDER, size=(PLACEHOLDER, ))\n",
    "x_2 = np.random.normal(loc=PLACEHOLDER, scale=PLACEHOLDER, size=(PLACEHOLDER, ))\n",
    "\n",
    "# TODO: Generate dataset for X_12\n",
    "x_12 = np.random.normal(loc=PLACEHOLDER, scale=PLACEHOLDER, size=(PLACEHOLDER, ))\n",
    "\n",
    "# TODO: Generate dataset for X_1 + X_2\n",
    "x_1_2 = PLACEHOLDER\n",
    "\n",
    "# TODO: Plot histograms for X_1, X_2, X_12, and X_1 + X_2\n",
    "fig = plt.figure()\n",
    "plt.hist(PLACEHOLDER, label=PLACEHOLDER)\n",
    "plt.hist(PLACEHOLDER, label=PLACEHOLDER)\n",
    "plt.hist(PLACEHOLDER, label=PLACEHOLDER)\n",
    "plt.hist(PLACEHOLDER, label=PLACEHOLDER)\n",
    "plt.legend()\n",
    "plt.show()"
   ]
  },
  {
   "cell_type": "markdown",
   "id": "078302db",
   "metadata": {},
   "source": [
    "Now, lets fit $X_1 + X_2$ to a normal distribution. "
   ]
  },
  {
   "cell_type": "code",
   "execution_count": 146,
   "id": "31566695",
   "metadata": {},
   "outputs": [
    {
     "name": "stdout",
     "output_type": "stream",
     "text": [
      "0.0 0.0\n"
     ]
    }
   ],
   "source": [
    "fit_mu, fit_sigma = scipy.stats.norm.fit(PLACEHOLDER)\n",
    "print(fit_mu, fit_sigma)"
   ]
  },
  {
   "cell_type": "markdown",
   "id": "eef742ef",
   "metadata": {},
   "source": [
    "**Theorem** Let $X$ and $Y$ be 2 independent normally distributed random variables with mean $\\mu_X$, $\\mu_Y$, and variance $\\sigma^2_X$, $\\sigma^2_Y$, respectively. Then, $X+Y$ is normally distrbuted with mean $\\mu_x + \\mu_y$ and variance $\\sigma^2_X + \\sigma^2_Y$. To prove this, we calculate the CDF of the sum, and take its derivative\n",
    "\n",
    "$$\n",
    "p(X + Y \\leq z) = \\int_{-\\infty}^{\\infty} dx \\int_{-\\infty}^{z-X}f(X)g(Y)dy\n",
    "$$\n",
    "where $f(x) and $g(y)$ are the PDFs of $X$ and $Y$, respectively. \n",
    "\n",
    "Therefore, the PDF of the sum is a convolution of the respective PDFs. \n",
    "\n",
    "For Gaussian distributions:\n",
    "\n",
    "$$\n",
    "h(x) = \\frac{1}{\\sqrt{2\\pi \\sigma_X^2}}\\frac{1}{\\sqrt{2\\pi \\sigma_Y^2}}e^{\\frac{-(y-\\mu_Y)^2}{2\\sigma_Y^2}}e^{\\frac{-(x-\\mu_X)^2}{2\\sigma_X^2}} = \\frac{1}{\\sqrt{2\\pi (\\sigma_X^2 +  \\sigma_Y^2)}}e^{\\frac{-((y + x)-\\mu_Y-\\mu_X)^2}{2(\\sigma_X^2 + \\sigma_Y^2)}}\n",
    "$$"
   ]
  },
  {
   "cell_type": "markdown",
   "id": "aaf1675c",
   "metadata": {},
   "source": [
    "## SKIPPED 1.10"
   ]
  },
  {
   "cell_type": "markdown",
   "id": "f64c197d",
   "metadata": {},
   "source": [
    "# Problem 2: Vectors and matrices\n",
    "## 2.1 Create two 2D vectors with x-values and y-values, each sampled from a standard univariate Gaussian distribution"
   ]
  },
  {
   "cell_type": "code",
   "execution_count": 151,
   "id": "59a311a6",
   "metadata": {},
   "outputs": [],
   "source": [
    "np.random.seed(1)\n",
    "# TODO: Use np.random.normal, with size set to (2, 1)\n",
    "v1 = PLACEHOLDER\n",
    "v2 = PLACEHOLDER\n",
    "\n",
    "# ANSWER\n",
    "v1 = np.random.normal(size=(2,1))"
   ]
  },
  {
   "cell_type": "markdown",
   "id": "d5fde60e",
   "metadata": {},
   "source": [
    "## 2.2 Plot the above two vectors in 2D with a line segment emanating from the origin"
   ]
  },
  {
   "cell_type": "code",
   "execution_count": 181,
   "id": "8ac88a91",
   "metadata": {},
   "outputs": [
    {
     "name": "stdout",
     "output_type": "stream",
     "text": [
      "[[ 0.          1.62434536]\n",
      " [ 0.         -0.61175641]]\n",
      "[]\n"
     ]
    },
    {
     "data": {
      "image/png": "[encoded data removed]",
      "text/plain": [
       "<Figure size 432x288 with 1 Axes>"
      ]
     },
     "metadata": {
      "needs_background": "light"
     },
     "output_type": "display_data"
    }
   ],
   "source": [
    "fig = plt.figure()\n",
    "\n",
    "# NOTE: Generating an array for the origin. \n",
    "origin = np.array([0, 0])[:, np.newaxis]\n",
    "# NOTE: Stacking these arrays to create a matrix where each column is an endpoint of the line we want to plot\n",
    "data1 = np.hstack((origin, v1))\n",
    "print(data1)\n",
    "plt.plot(data1[0, :], data1[1, :])\n",
    "\n",
    "# TODO: Do the same as above for the second line\n",
    "data2 = np.hstack((LIST_PLACEHOLDER, LIST_PLACEHOLDER))\n",
    "print(data2)\n",
    "plt.plot(PLACEHOLDER, PLACEHOLDER)\n",
    "\n",
    "# TODO: Generate lines that go through origin\n",
    "plt.axvline(x=PLACEHOLDER, linestyle='--', color='black')\n",
    "plt.axhline(y=PLACEHOLDER, linestyle='--', color='black')\n",
    "\n",
    "plt.show()"
   ]
  },
  {
   "cell_type": "markdown",
   "id": "80d59e23",
   "metadata": {},
   "source": [
    "## 2.3 Compute the length of each vector"
   ]
  },
  {
   "cell_type": "code",
   "execution_count": 183,
   "id": "d3d35ab5",
   "metadata": {},
   "outputs": [
    {
     "name": "stdout",
     "output_type": "stream",
     "text": [
      "1.7357257185673867\n",
      "0.0\n"
     ]
    }
   ],
   "source": [
    "# TODO: Calculate length of v1 and v2 (without using np.linalg.norm). Compare these results to np.linalg.norm\n",
    "length_v1 = PLACEHOLDER\n",
    "length_v2 = PLACEHOLDER\n",
    "print(np.linalg.norm(v1))\n",
    "print(np.linalg.norm(v2))"
   ]
  },
  {
   "cell_type": "markdown",
   "id": "6e2e30bf",
   "metadata": {},
   "source": [
    "## 2.4 Find the angle between two vectors"
   ]
  },
  {
   "cell_type": "code",
   "execution_count": null,
   "id": "932d463a",
   "metadata": {},
   "outputs": [],
   "source": [
    "# TODO: Find the angle in degrees using the dot product. Do not use np.dot (though you can use this to check)\n",
    "# your answer\n",
    "angle_v1_v2 = PLACEHOLDER\n"
   ]
  },
  {
   "cell_type": "markdown",
   "id": "4662ceb0",
   "metadata": {},
   "source": [
    "## 2.5 Project V1 onto V2\n",
    "Plot the projection along with the two vectors. Do not use any numpy functions to find the projection"
   ]
  },
  {
   "cell_type": "code",
   "execution_count": 186,
   "id": "5038f90f",
   "metadata": {},
   "outputs": [
    {
     "data": {
      "image/png": "[encoded data removed]",
      "text/plain": [
       "<Figure size 432x288 with 1 Axes>"
      ]
     },
     "metadata": {
      "needs_background": "light"
     },
     "output_type": "display_data"
    }
   ],
   "source": [
    "v1proj = PLACEHOLDER\n",
    "\n",
    "# TODO: Plot the projected line\n",
    "fig = plt.figure()\n",
    "origin = np.array([0, 0])[:, np.newaxis]\n",
    "datav1proj = np.hstack((origin, PLACEHOLDER))\n",
    "plt.plot(PLACEHOLDER, PLACEHOLDER)\n",
    "\n",
    "\n",
    "\n",
    "# TODO: Plot v1 and v2 (you can copy code from 2.2)\n",
    "# TODO: Generate lines that go through origin (you can copy code from 2.2)\n",
    "PLACEHOLDER\n",
    "\n",
    "plt.show()\n"
   ]
  },
  {
   "cell_type": "markdown",
   "id": "51a73142",
   "metadata": {},
   "source": [
    "\n",
    "## 2.6 Rotate V1 and V2 by 45 degree _clockwise_ rotation\n",
    "Use a rotation matrix. Plot the resulting vectors in the same plot"
   ]
  },
  {
   "cell_type": "code",
   "execution_count": 187,
   "id": "6b1d218f",
   "metadata": {},
   "outputs": [],
   "source": [
    "# TODO: Write the rotation matrix\n",
    "rot = np.array([[PLACEHOLDER, PLACEHOLDER], [PLACEHOLDER, PLACEHOLDER]])\n",
    "\n",
    "\n",
    "# TODO: Calculate rotated vectors\n",
    "rot_v1 = PLACEHOLDER\n",
    "rot_v2 = PLACEHOLDER\n",
    "\n",
    "# TODO: Plot rotated vectors in the same graph\n",
    "fig = plt.figure()\n",
    "origin = np.array([0, 0])[:, np.newaxis]\n",
    "\n",
    "data_rot_v1 = np.hstack((origin, PLACEHOLDER))\n",
    "data_rot_v2 = np.hstack((origin, PLACEHOLDER))\n",
    "plt.plot(PLACEHOLDER, PLACEHOLDER)\n",
    "plt.plot(PLACEHOLDER, PLACEHOLDER)\n",
    " \n",
    "# TODO: Plot v1 and v2 (you can copy code from 2.2)\n",
    "# TODO: Generate lines that go through origin (you can copy code from 2.2)\n",
    "PLACEHOLDER\n",
    "\n",
    "plt.show()\n"
   ]
  },
  {
   "cell_type": "markdown",
   "id": "39649823",
   "metadata": {},
   "source": [
    "## 2.7 Dot project of rotated vectors\n",
    "### 2.7.a Find the norm of the rotated vectors and compare to that of the original vectors. \n",
    "You can use `np.linalg.norm`"
   ]
  },
  {
   "cell_type": "code",
   "execution_count": 193,
   "id": "fcbd1113",
   "metadata": {},
   "outputs": [
    {
     "name": "stdout",
     "output_type": "stream",
     "text": [
      "0 0\n",
      "0 0\n"
     ]
    }
   ],
   "source": [
    "# TODO: Find norm of rotated vectors\n",
    "len_rot_v1 = PLACEHOLDER\n",
    "len_rot_v2 = PLACEHOLDER\n",
    "\n",
    "# TODO: Compare to norm of original vectors\n",
    "print(len_rot_v1, PLACEHOLDER)\n",
    "print(len_rot_v2, PLACEHOLDER)"
   ]
  },
  {
   "cell_type": "markdown",
   "id": "7cbef249",
   "metadata": {},
   "source": [
    "### 2.7.b Find the dot product of the rotated vectors and compare it to that of the original vectors"
   ]
  },
  {
   "cell_type": "code",
   "execution_count": 194,
   "id": "f267bb33",
   "metadata": {},
   "outputs": [
    {
     "data": {
      "text/plain": [
       "0"
      ]
     },
     "execution_count": 194,
     "metadata": {},
     "output_type": "execute_result"
    }
   ],
   "source": [
    "# TODO: Find the dot product of rot_v1 and rot_v2\n",
    "rot_dot = PLACEHOLDER\n",
    "\n",
    "# TODO: Compare dot product before and after rotation\n",
    "PLACEHOLDER"
   ]
  },
  {
   "cell_type": "markdown",
   "id": "2033e012",
   "metadata": {},
   "source": [
    "## 2.8 Transpose of a rotation matrix\n",
    "Find the transpose of `rot` and find the product of `rot` with its transpose. What do you conclude?"
   ]
  },
  {
   "cell_type": "code",
   "execution_count": 197,
   "id": "35769745",
   "metadata": {},
   "outputs": [
    {
     "data": {
      "text/plain": [
       "0"
      ]
     },
     "execution_count": 197,
     "metadata": {},
     "output_type": "execute_result"
    }
   ],
   "source": [
    "# TODO: Find transpose of rot\n",
    "rot_T = PLACEHOLDER\n",
    "# TODO: Find product of rot with its transpose\n",
    "PLACEHOLDER"
   ]
  },
  {
   "cell_type": "markdown",
   "id": "8ba7540e",
   "metadata": {},
   "source": [
    "## 2.9 Try to use results from 2.7 to derive 2.8\n",
    "Write out this proof in Latex!"
   ]
  },
  {
   "cell_type": "code",
   "execution_count": null,
   "id": "03122d9a",
   "metadata": {},
   "outputs": [],
   "source": []
  }
 ],
 "metadata": {
  "kernelspec": {
   "display_name": "py3",
   "language": "python",
   "name": "py3"
  },
  "language_info": {
   "codemirror_mode": {
    "name": "ipython",
    "version": 3
   },
   "file_extension": ".py",
   "mimetype": "text/x-python",
   "name": "python",
   "nbconvert_exporter": "python",
   "pygments_lexer": "ipython3",
   "version": "3.8.5"
  },
  "varInspector": {
   "cols": {
    "lenName": 16,
    "lenType": 16,
    "lenVar": 40
   },
   "kernels_config": {
    "python": {
     "delete_cmd_postfix": "",
     "delete_cmd_prefix": "del ",
     "library": "var_list.py",
     "varRefreshCmd": "print(var_dic_list())"
    },
    "r": {
     "delete_cmd_postfix": ") ",
     "delete_cmd_prefix": "rm(",
     "library": "var_list.r",
     "varRefreshCmd": "cat(var_dic_list()) "
    }
   },
   "types_to_exclude": [
    "module",
    "function",
    "builtin_function_or_method",
    "instance",
    "_Feature"
   ],
   "window_display": false
  }
 },
 "nbformat": 4,
 "nbformat_minor": 5
}
